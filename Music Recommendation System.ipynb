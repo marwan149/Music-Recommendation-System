{
 "cells": [
  {
   "cell_type": "markdown",
   "id": "7409d6f7-9517-4625-a0aa-d295a14c20b8",
   "metadata": {},
   "source": [
    "# Music Recommendation System"
   ]
  },
  {
   "cell_type": "markdown",
   "id": "cdfcfb8e-8c48-4f27-b1f3-4952fa2e65f4",
   "metadata": {
    "jp-MarkdownHeadingCollapsed": true
   },
   "source": [
    "## Import Libraries"
   ]
  },
  {
   "cell_type": "code",
   "execution_count": 1,
   "id": "82888f68-325a-493a-a10c-56130c674f46",
   "metadata": {},
   "outputs": [],
   "source": [
    "import numpy as np \n",
    "import pandas as pd\n",
    "import matplotlib.pyplot as plt\n",
    "import seaborn as sns"
   ]
  },
  {
   "cell_type": "markdown",
   "id": "79999075-2d09-4880-aab4-56520e19698d",
   "metadata": {},
   "source": [
    "## Load & Read the Data"
   ]
  },
  {
   "cell_type": "code",
   "execution_count": 2,
   "id": "20362f8c-3979-4701-bca6-a14bbcaa73cc",
   "metadata": {},
   "outputs": [],
   "source": [
    "ds=pd.read_csv('spotify_millsongdata.csv')"
   ]
  },
  {
   "cell_type": "code",
   "execution_count": 3,
   "id": "a69a4942-161a-4033-b3bc-69359e5bc0f0",
   "metadata": {},
   "outputs": [
    {
     "name": "stdout",
     "output_type": "stream",
     "text": [
      "<class 'pandas.core.frame.DataFrame'>\n",
      "RangeIndex: 57650 entries, 0 to 57649\n",
      "Data columns (total 4 columns):\n",
      " #   Column  Non-Null Count  Dtype \n",
      "---  ------  --------------  ----- \n",
      " 0   artist  57650 non-null  object\n",
      " 1   song    57650 non-null  object\n",
      " 2   link    57650 non-null  object\n",
      " 3   text    57650 non-null  object\n",
      "dtypes: object(4)\n",
      "memory usage: 1.8+ MB\n"
     ]
    }
   ],
   "source": [
    "ds.info()"
   ]
  },
  {
   "cell_type": "code",
   "execution_count": 4,
   "id": "116dba9d-3d39-4e86-a0ac-c238c5752efa",
   "metadata": {},
   "outputs": [
    {
     "data": {
      "text/plain": [
       "(57650, 4)"
      ]
     },
     "execution_count": 4,
     "metadata": {},
     "output_type": "execute_result"
    }
   ],
   "source": [
    "ds.shape"
   ]
  },
  {
   "cell_type": "code",
   "execution_count": 5,
   "id": "2d736cae-0733-496f-ae9f-2e36eeef17c0",
   "metadata": {},
   "outputs": [
    {
     "data": {
      "text/html": [
       "<div>\n",
       "<style scoped>\n",
       "    .dataframe tbody tr th:only-of-type {\n",
       "        vertical-align: middle;\n",
       "    }\n",
       "\n",
       "    .dataframe tbody tr th {\n",
       "        vertical-align: top;\n",
       "    }\n",
       "\n",
       "    .dataframe thead th {\n",
       "        text-align: right;\n",
       "    }\n",
       "</style>\n",
       "<table border=\"1\" class=\"dataframe\">\n",
       "  <thead>\n",
       "    <tr style=\"text-align: right;\">\n",
       "      <th></th>\n",
       "      <th>artist</th>\n",
       "      <th>song</th>\n",
       "      <th>link</th>\n",
       "      <th>text</th>\n",
       "    </tr>\n",
       "  </thead>\n",
       "  <tbody>\n",
       "    <tr>\n",
       "      <th>0</th>\n",
       "      <td>ABBA</td>\n",
       "      <td>Ahe's My Kind Of Girl</td>\n",
       "      <td>/a/abba/ahes+my+kind+of+girl_20598417.html</td>\n",
       "      <td>Look at her face, it's a wonderful face  \\r\\nA...</td>\n",
       "    </tr>\n",
       "    <tr>\n",
       "      <th>1</th>\n",
       "      <td>ABBA</td>\n",
       "      <td>Andante, Andante</td>\n",
       "      <td>/a/abba/andante+andante_20002708.html</td>\n",
       "      <td>Take it easy with me, please  \\r\\nTouch me gen...</td>\n",
       "    </tr>\n",
       "    <tr>\n",
       "      <th>2</th>\n",
       "      <td>ABBA</td>\n",
       "      <td>As Good As New</td>\n",
       "      <td>/a/abba/as+good+as+new_20003033.html</td>\n",
       "      <td>I'll never know why I had to go  \\r\\nWhy I had...</td>\n",
       "    </tr>\n",
       "  </tbody>\n",
       "</table>\n",
       "</div>"
      ],
      "text/plain": [
       "  artist                   song                                        link  \\\n",
       "0   ABBA  Ahe's My Kind Of Girl  /a/abba/ahes+my+kind+of+girl_20598417.html   \n",
       "1   ABBA       Andante, Andante       /a/abba/andante+andante_20002708.html   \n",
       "2   ABBA         As Good As New        /a/abba/as+good+as+new_20003033.html   \n",
       "\n",
       "                                                text  \n",
       "0  Look at her face, it's a wonderful face  \\r\\nA...  \n",
       "1  Take it easy with me, please  \\r\\nTouch me gen...  \n",
       "2  I'll never know why I had to go  \\r\\nWhy I had...  "
      ]
     },
     "execution_count": 5,
     "metadata": {},
     "output_type": "execute_result"
    }
   ],
   "source": [
    "ds.head(3)"
   ]
  },
  {
   "cell_type": "code",
   "execution_count": 6,
   "id": "a514f3d6-b205-4f9b-8103-cce34bf01612",
   "metadata": {},
   "outputs": [
    {
     "data": {
      "text/html": [
       "<div>\n",
       "<style scoped>\n",
       "    .dataframe tbody tr th:only-of-type {\n",
       "        vertical-align: middle;\n",
       "    }\n",
       "\n",
       "    .dataframe tbody tr th {\n",
       "        vertical-align: top;\n",
       "    }\n",
       "\n",
       "    .dataframe thead th {\n",
       "        text-align: right;\n",
       "    }\n",
       "</style>\n",
       "<table border=\"1\" class=\"dataframe\">\n",
       "  <thead>\n",
       "    <tr style=\"text-align: right;\">\n",
       "      <th></th>\n",
       "      <th>artist</th>\n",
       "      <th>song</th>\n",
       "      <th>link</th>\n",
       "      <th>text</th>\n",
       "    </tr>\n",
       "  </thead>\n",
       "  <tbody>\n",
       "    <tr>\n",
       "      <th>57647</th>\n",
       "      <td>Zwan</td>\n",
       "      <td>Come With Me</td>\n",
       "      <td>/z/zwan/come+with+me_20148981.html</td>\n",
       "      <td>all you need  \\r\\nis something i'll believe  \\...</td>\n",
       "    </tr>\n",
       "    <tr>\n",
       "      <th>57648</th>\n",
       "      <td>Zwan</td>\n",
       "      <td>Desire</td>\n",
       "      <td>/z/zwan/desire_20148986.html</td>\n",
       "      <td>northern star  \\r\\nam i frightened  \\r\\nwhere ...</td>\n",
       "    </tr>\n",
       "    <tr>\n",
       "      <th>57649</th>\n",
       "      <td>Zwan</td>\n",
       "      <td>Heartsong</td>\n",
       "      <td>/z/zwan/heartsong_20148991.html</td>\n",
       "      <td>come in  \\r\\nmake yourself at home  \\r\\ni'm a ...</td>\n",
       "    </tr>\n",
       "  </tbody>\n",
       "</table>\n",
       "</div>"
      ],
      "text/plain": [
       "      artist          song                                link  \\\n",
       "57647   Zwan  Come With Me  /z/zwan/come+with+me_20148981.html   \n",
       "57648   Zwan        Desire        /z/zwan/desire_20148986.html   \n",
       "57649   Zwan     Heartsong     /z/zwan/heartsong_20148991.html   \n",
       "\n",
       "                                                    text  \n",
       "57647  all you need  \\r\\nis something i'll believe  \\...  \n",
       "57648  northern star  \\r\\nam i frightened  \\r\\nwhere ...  \n",
       "57649  come in  \\r\\nmake yourself at home  \\r\\ni'm a ...  "
      ]
     },
     "execution_count": 6,
     "metadata": {},
     "output_type": "execute_result"
    }
   ],
   "source": [
    "ds.tail(3)"
   ]
  },
  {
   "cell_type": "code",
   "execution_count": 7,
   "id": "0c3ba63d-7e45-46e4-a2db-a76de13721db",
   "metadata": {},
   "outputs": [],
   "source": [
    "ds=ds.drop_duplicates()"
   ]
  },
  {
   "cell_type": "code",
   "execution_count": 8,
   "id": "fa3e4b91-0c28-48bd-9220-3815a72d9eb2",
   "metadata": {},
   "outputs": [
    {
     "data": {
      "text/plain": [
       "(57650, 4)"
      ]
     },
     "execution_count": 8,
     "metadata": {},
     "output_type": "execute_result"
    }
   ],
   "source": [
    "ds.shape"
   ]
  },
  {
   "cell_type": "code",
   "execution_count": 9,
   "id": "522882d6-d6c7-4529-92f9-4ed0c5340f5b",
   "metadata": {},
   "outputs": [
    {
     "data": {
      "text/plain": [
       "artist    0\n",
       "song      0\n",
       "link      0\n",
       "text      0\n",
       "dtype: int64"
      ]
     },
     "execution_count": 9,
     "metadata": {},
     "output_type": "execute_result"
    }
   ],
   "source": [
    "ds.isnull().sum()"
   ]
  },
  {
   "cell_type": "code",
   "execution_count": 10,
   "id": "dda70cc7-ea83-446e-a367-31518ca1c12e",
   "metadata": {},
   "outputs": [],
   "source": [
    "ds_2 = ds.sample(20000).drop(['link'], axis=1).reset_index(drop=True)"
   ]
  },
  {
   "cell_type": "code",
   "execution_count": 11,
   "id": "a3159285-8eb6-4f3f-9942-8e9bf7718332",
   "metadata": {},
   "outputs": [
    {
     "data": {
      "text/html": [
       "<div>\n",
       "<style scoped>\n",
       "    .dataframe tbody tr th:only-of-type {\n",
       "        vertical-align: middle;\n",
       "    }\n",
       "\n",
       "    .dataframe tbody tr th {\n",
       "        vertical-align: top;\n",
       "    }\n",
       "\n",
       "    .dataframe thead th {\n",
       "        text-align: right;\n",
       "    }\n",
       "</style>\n",
       "<table border=\"1\" class=\"dataframe\">\n",
       "  <thead>\n",
       "    <tr style=\"text-align: right;\">\n",
       "      <th></th>\n",
       "      <th>artist</th>\n",
       "      <th>song</th>\n",
       "      <th>link</th>\n",
       "      <th>text</th>\n",
       "    </tr>\n",
       "  </thead>\n",
       "  <tbody>\n",
       "    <tr>\n",
       "      <th>0</th>\n",
       "      <td>ABBA</td>\n",
       "      <td>Ahe's My Kind Of Girl</td>\n",
       "      <td>/a/abba/ahes+my+kind+of+girl_20598417.html</td>\n",
       "      <td>Look at her face, it's a wonderful face  \\r\\nA...</td>\n",
       "    </tr>\n",
       "    <tr>\n",
       "      <th>1</th>\n",
       "      <td>ABBA</td>\n",
       "      <td>Andante, Andante</td>\n",
       "      <td>/a/abba/andante+andante_20002708.html</td>\n",
       "      <td>Take it easy with me, please  \\r\\nTouch me gen...</td>\n",
       "    </tr>\n",
       "    <tr>\n",
       "      <th>2</th>\n",
       "      <td>ABBA</td>\n",
       "      <td>As Good As New</td>\n",
       "      <td>/a/abba/as+good+as+new_20003033.html</td>\n",
       "      <td>I'll never know why I had to go  \\r\\nWhy I had...</td>\n",
       "    </tr>\n",
       "    <tr>\n",
       "      <th>3</th>\n",
       "      <td>ABBA</td>\n",
       "      <td>Bang</td>\n",
       "      <td>/a/abba/bang_20598415.html</td>\n",
       "      <td>Making somebody happy is a question of give an...</td>\n",
       "    </tr>\n",
       "    <tr>\n",
       "      <th>4</th>\n",
       "      <td>ABBA</td>\n",
       "      <td>Bang-A-Boomerang</td>\n",
       "      <td>/a/abba/bang+a+boomerang_20002668.html</td>\n",
       "      <td>Making somebody happy is a question of give an...</td>\n",
       "    </tr>\n",
       "    <tr>\n",
       "      <th>...</th>\n",
       "      <td>...</td>\n",
       "      <td>...</td>\n",
       "      <td>...</td>\n",
       "      <td>...</td>\n",
       "    </tr>\n",
       "    <tr>\n",
       "      <th>57645</th>\n",
       "      <td>Ziggy Marley</td>\n",
       "      <td>Good Old Days</td>\n",
       "      <td>/z/ziggy+marley/good+old+days_10198588.html</td>\n",
       "      <td>Irie days come on play  \\r\\nLet the angels fly...</td>\n",
       "    </tr>\n",
       "    <tr>\n",
       "      <th>57646</th>\n",
       "      <td>Ziggy Marley</td>\n",
       "      <td>Hand To Mouth</td>\n",
       "      <td>/z/ziggy+marley/hand+to+mouth_20531167.html</td>\n",
       "      <td>Power to the workers  \\r\\nMore power  \\r\\nPowe...</td>\n",
       "    </tr>\n",
       "    <tr>\n",
       "      <th>57647</th>\n",
       "      <td>Zwan</td>\n",
       "      <td>Come With Me</td>\n",
       "      <td>/z/zwan/come+with+me_20148981.html</td>\n",
       "      <td>all you need  \\r\\nis something i'll believe  \\...</td>\n",
       "    </tr>\n",
       "    <tr>\n",
       "      <th>57648</th>\n",
       "      <td>Zwan</td>\n",
       "      <td>Desire</td>\n",
       "      <td>/z/zwan/desire_20148986.html</td>\n",
       "      <td>northern star  \\r\\nam i frightened  \\r\\nwhere ...</td>\n",
       "    </tr>\n",
       "    <tr>\n",
       "      <th>57649</th>\n",
       "      <td>Zwan</td>\n",
       "      <td>Heartsong</td>\n",
       "      <td>/z/zwan/heartsong_20148991.html</td>\n",
       "      <td>come in  \\r\\nmake yourself at home  \\r\\ni'm a ...</td>\n",
       "    </tr>\n",
       "  </tbody>\n",
       "</table>\n",
       "<p>57650 rows × 4 columns</p>\n",
       "</div>"
      ],
      "text/plain": [
       "             artist                   song  \\\n",
       "0              ABBA  Ahe's My Kind Of Girl   \n",
       "1              ABBA       Andante, Andante   \n",
       "2              ABBA         As Good As New   \n",
       "3              ABBA                   Bang   \n",
       "4              ABBA       Bang-A-Boomerang   \n",
       "...             ...                    ...   \n",
       "57645  Ziggy Marley          Good Old Days   \n",
       "57646  Ziggy Marley          Hand To Mouth   \n",
       "57647          Zwan           Come With Me   \n",
       "57648          Zwan                 Desire   \n",
       "57649          Zwan              Heartsong   \n",
       "\n",
       "                                              link  \\\n",
       "0       /a/abba/ahes+my+kind+of+girl_20598417.html   \n",
       "1            /a/abba/andante+andante_20002708.html   \n",
       "2             /a/abba/as+good+as+new_20003033.html   \n",
       "3                       /a/abba/bang_20598415.html   \n",
       "4           /a/abba/bang+a+boomerang_20002668.html   \n",
       "...                                            ...   \n",
       "57645  /z/ziggy+marley/good+old+days_10198588.html   \n",
       "57646  /z/ziggy+marley/hand+to+mouth_20531167.html   \n",
       "57647           /z/zwan/come+with+me_20148981.html   \n",
       "57648                 /z/zwan/desire_20148986.html   \n",
       "57649              /z/zwan/heartsong_20148991.html   \n",
       "\n",
       "                                                    text  \n",
       "0      Look at her face, it's a wonderful face  \\r\\nA...  \n",
       "1      Take it easy with me, please  \\r\\nTouch me gen...  \n",
       "2      I'll never know why I had to go  \\r\\nWhy I had...  \n",
       "3      Making somebody happy is a question of give an...  \n",
       "4      Making somebody happy is a question of give an...  \n",
       "...                                                  ...  \n",
       "57645  Irie days come on play  \\r\\nLet the angels fly...  \n",
       "57646  Power to the workers  \\r\\nMore power  \\r\\nPowe...  \n",
       "57647  all you need  \\r\\nis something i'll believe  \\...  \n",
       "57648  northern star  \\r\\nam i frightened  \\r\\nwhere ...  \n",
       "57649  come in  \\r\\nmake yourself at home  \\r\\ni'm a ...  \n",
       "\n",
       "[57650 rows x 4 columns]"
      ]
     },
     "execution_count": 11,
     "metadata": {},
     "output_type": "execute_result"
    }
   ],
   "source": [
    "ds"
   ]
  },
  {
   "cell_type": "markdown",
   "id": "10ff2f73-2720-4ae5-80dd-fb5b5090bc99",
   "metadata": {},
   "source": [
    "## Data Preprocessing"
   ]
  },
  {
   "cell_type": "code",
   "execution_count": 12,
   "id": "70eb794e-2437-4c4b-9324-440213218086",
   "metadata": {},
   "outputs": [
    {
     "data": {
      "text/html": [
       "<div>\n",
       "<style scoped>\n",
       "    .dataframe tbody tr th:only-of-type {\n",
       "        vertical-align: middle;\n",
       "    }\n",
       "\n",
       "    .dataframe tbody tr th {\n",
       "        vertical-align: top;\n",
       "    }\n",
       "\n",
       "    .dataframe thead th {\n",
       "        text-align: right;\n",
       "    }\n",
       "</style>\n",
       "<table border=\"1\" class=\"dataframe\">\n",
       "  <thead>\n",
       "    <tr style=\"text-align: right;\">\n",
       "      <th></th>\n",
       "      <th>artist</th>\n",
       "      <th>song</th>\n",
       "      <th>text</th>\n",
       "    </tr>\n",
       "  </thead>\n",
       "  <tbody>\n",
       "    <tr>\n",
       "      <th>0</th>\n",
       "      <td>Erasure</td>\n",
       "      <td>Video Killed The Radio Star</td>\n",
       "      <td>I heard you on the wireless back in '52  \\r\\nL...</td>\n",
       "    </tr>\n",
       "    <tr>\n",
       "      <th>1</th>\n",
       "      <td>Primus</td>\n",
       "      <td>Green Ranger</td>\n",
       "      <td>I took a ride with the Green Ranger  \\r\\nHe st...</td>\n",
       "    </tr>\n",
       "    <tr>\n",
       "      <th>2</th>\n",
       "      <td>Red Hot Chili Peppers</td>\n",
       "      <td>Get Up And Jump</td>\n",
       "      <td>Get up and jump, get up and jump, get up, get ...</td>\n",
       "    </tr>\n",
       "    <tr>\n",
       "      <th>3</th>\n",
       "      <td>Yello</td>\n",
       "      <td>Koladi-Ola</td>\n",
       "      <td>Koladi-Ola  \\r\\nKoladi-Ola  \\r\\n  \\r\\nI'm gonn...</td>\n",
       "    </tr>\n",
       "    <tr>\n",
       "      <th>4</th>\n",
       "      <td>Bonnie Raitt</td>\n",
       "      <td>I Can't Make You Love Me</td>\n",
       "      <td>Turn down the lights  \\r\\nTurn down the bed  \\...</td>\n",
       "    </tr>\n",
       "    <tr>\n",
       "      <th>...</th>\n",
       "      <td>...</td>\n",
       "      <td>...</td>\n",
       "      <td>...</td>\n",
       "    </tr>\n",
       "    <tr>\n",
       "      <th>19995</th>\n",
       "      <td>Michael Bolton</td>\n",
       "      <td>How Can We Be Lovers If We Can't Be Friends</td>\n",
       "      <td>How can we be lovers if we can't be friends?  ...</td>\n",
       "    </tr>\n",
       "    <tr>\n",
       "      <th>19996</th>\n",
       "      <td>Paul McCartney</td>\n",
       "      <td>Dance Tonight</td>\n",
       "      <td>Everybody gonna dance tonight  \\r\\nEverybody g...</td>\n",
       "    </tr>\n",
       "    <tr>\n",
       "      <th>19997</th>\n",
       "      <td>Celine Dion</td>\n",
       "      <td>I Love You</td>\n",
       "      <td>I must be crazy now  \\r\\nMaybe I dream too muc...</td>\n",
       "    </tr>\n",
       "    <tr>\n",
       "      <th>19998</th>\n",
       "      <td>Lionel Richie</td>\n",
       "      <td>Reason To Believe</td>\n",
       "      <td>Everybody's talking loud  \\r\\nTryin' to get me...</td>\n",
       "    </tr>\n",
       "    <tr>\n",
       "      <th>19999</th>\n",
       "      <td>Warren Zevon</td>\n",
       "      <td>Lord Byron's Luggage</td>\n",
       "      <td>Lord Byron had a lot of luggage  \\r\\nHe took i...</td>\n",
       "    </tr>\n",
       "  </tbody>\n",
       "</table>\n",
       "<p>20000 rows × 3 columns</p>\n",
       "</div>"
      ],
      "text/plain": [
       "                      artist                                         song  \\\n",
       "0                    Erasure                  Video Killed The Radio Star   \n",
       "1                     Primus                                 Green Ranger   \n",
       "2      Red Hot Chili Peppers                              Get Up And Jump   \n",
       "3                      Yello                                   Koladi-Ola   \n",
       "4               Bonnie Raitt                     I Can't Make You Love Me   \n",
       "...                      ...                                          ...   \n",
       "19995         Michael Bolton  How Can We Be Lovers If We Can't Be Friends   \n",
       "19996         Paul McCartney                                Dance Tonight   \n",
       "19997            Celine Dion                                   I Love You   \n",
       "19998          Lionel Richie                            Reason To Believe   \n",
       "19999           Warren Zevon                         Lord Byron's Luggage   \n",
       "\n",
       "                                                    text  \n",
       "0      I heard you on the wireless back in '52  \\r\\nL...  \n",
       "1      I took a ride with the Green Ranger  \\r\\nHe st...  \n",
       "2      Get up and jump, get up and jump, get up, get ...  \n",
       "3      Koladi-Ola  \\r\\nKoladi-Ola  \\r\\n  \\r\\nI'm gonn...  \n",
       "4      Turn down the lights  \\r\\nTurn down the bed  \\...  \n",
       "...                                                  ...  \n",
       "19995  How can we be lovers if we can't be friends?  ...  \n",
       "19996  Everybody gonna dance tonight  \\r\\nEverybody g...  \n",
       "19997  I must be crazy now  \\r\\nMaybe I dream too muc...  \n",
       "19998  Everybody's talking loud  \\r\\nTryin' to get me...  \n",
       "19999  Lord Byron had a lot of luggage  \\r\\nHe took i...  \n",
       "\n",
       "[20000 rows x 3 columns]"
      ]
     },
     "execution_count": 12,
     "metadata": {},
     "output_type": "execute_result"
    }
   ],
   "source": [
    "ds_2"
   ]
  },
  {
   "cell_type": "code",
   "execution_count": 13,
   "id": "329a5df0-9b77-4edd-ae82-d58ef9ae5d66",
   "metadata": {},
   "outputs": [
    {
     "data": {
      "text/plain": [
       "0                        Video Killed The Radio Star\n",
       "1                                       Green Ranger\n",
       "2                                    Get Up And Jump\n",
       "3                                         Koladi-Ola\n",
       "4                           I Can't Make You Love Me\n",
       "                            ...                     \n",
       "19995    How Can We Be Lovers If We Can't Be Friends\n",
       "19996                                  Dance Tonight\n",
       "19997                                     I Love You\n",
       "19998                              Reason To Believe\n",
       "19999                           Lord Byron's Luggage\n",
       "Name: song, Length: 20000, dtype: object"
      ]
     },
     "execution_count": 13,
     "metadata": {},
     "output_type": "execute_result"
    }
   ],
   "source": [
    "ds_2['song']"
   ]
  },
  {
   "cell_type": "code",
   "execution_count": 14,
   "id": "56d8f304-4ffe-451d-8cb6-66dbcc30874c",
   "metadata": {},
   "outputs": [
    {
     "data": {
      "text/plain": [
       "0        I heard you on the wireless back in '52  \\r\\nL...\n",
       "1        I took a ride with the Green Ranger  \\r\\nHe st...\n",
       "2        Get up and jump, get up and jump, get up, get ...\n",
       "3        Koladi-Ola  \\r\\nKoladi-Ola  \\r\\n  \\r\\nI'm gonn...\n",
       "4        Turn down the lights  \\r\\nTurn down the bed  \\...\n",
       "                               ...                        \n",
       "19995    How can we be lovers if we can't be friends?  ...\n",
       "19996    Everybody gonna dance tonight  \\r\\nEverybody g...\n",
       "19997    I must be crazy now  \\r\\nMaybe I dream too muc...\n",
       "19998    Everybody's talking loud  \\r\\nTryin' to get me...\n",
       "19999    Lord Byron had a lot of luggage  \\r\\nHe took i...\n",
       "Name: text, Length: 20000, dtype: object"
      ]
     },
     "execution_count": 14,
     "metadata": {},
     "output_type": "execute_result"
    }
   ],
   "source": [
    "ds_2['text']"
   ]
  },
  {
   "cell_type": "code",
   "execution_count": 15,
   "id": "f121b0b2-e18c-418b-8610-b8658124c0a2",
   "metadata": {},
   "outputs": [],
   "source": [
    "import re"
   ]
  },
  {
   "cell_type": "code",
   "execution_count": 16,
   "id": "1b4f2f6b-da84-4cfb-9149-b9c5f570a02e",
   "metadata": {},
   "outputs": [],
   "source": [
    "def clean_text(text):\n",
    "    text = text.lower()  \n",
    "    text = re.sub(r'\\s+', ' ', text)  \n",
    "    text = re.sub(r'\\n', ' ', text)  \n",
    "    return text"
   ]
  },
  {
   "cell_type": "code",
   "execution_count": 17,
   "id": "edb3f09b-7f34-4d13-a114-7b2eca96a1a1",
   "metadata": {},
   "outputs": [],
   "source": [
    "ds_2['text'] = ds_2['text'].apply(clean_text)"
   ]
  },
  {
   "cell_type": "code",
   "execution_count": 18,
   "id": "f62ab938-fa38-44f0-944f-c9230e216a45",
   "metadata": {},
   "outputs": [
    {
     "data": {
      "text/plain": [
       "0        i heard you on the wireless back in '52 lying ...\n",
       "1        i took a ride with the green ranger he stepped...\n",
       "2        get up and jump, get up and jump, get up, get ...\n",
       "3        koladi-ola koladi-ola i'm gonna making you wan...\n",
       "4        turn down the lights turn down the bed turn do...\n",
       "                               ...                        \n",
       "19995    how can we be lovers if we can't be friends? h...\n",
       "19996    everybody gonna dance tonight everybody gonna ...\n",
       "19997    i must be crazy now maybe i dream too much but...\n",
       "19998    everybody's talking loud tryin' to get me to j...\n",
       "19999    lord byron had a lot of luggage he took it whe...\n",
       "Name: text, Length: 20000, dtype: object"
      ]
     },
     "execution_count": 18,
     "metadata": {},
     "output_type": "execute_result"
    }
   ],
   "source": [
    "ds_2['text']"
   ]
  },
  {
   "cell_type": "code",
   "execution_count": 19,
   "id": "150a92b1-40c7-4719-b651-51c451aeb5cc",
   "metadata": {},
   "outputs": [
    {
     "name": "stderr",
     "output_type": "stream",
     "text": [
      "[nltk_data] Downloading package punkt to\n",
      "[nltk_data]     C:\\Users\\notsu\\AppData\\Roaming\\nltk_data...\n",
      "[nltk_data]   Package punkt is already up-to-date!\n"
     ]
    }
   ],
   "source": [
    "import nltk\n",
    "from nltk.tokenize import word_tokenize\n",
    "nltk.download('punkt')\n",
    "from nltk.stem.porter import PorterStemmer"
   ]
  },
  {
   "cell_type": "code",
   "execution_count": 20,
   "id": "fad93527-40ee-48c4-863a-52552595037e",
   "metadata": {},
   "outputs": [],
   "source": [
    "Steamer = PorterStemmer()\n",
    "def tokenize(input_text):\n",
    "    tokens = word_tokenize(input_text)  \n",
    "    stemmed_tokens = [Steamer.stem(token) for token in tokens]  \n",
    "    return \" \".join(stemmed_tokens)"
   ]
  },
  {
   "cell_type": "code",
   "execution_count": 21,
   "id": "3d817b21-9bda-42ef-bc12-411125cd87b7",
   "metadata": {},
   "outputs": [],
   "source": [
    "ds_2['text'] = ds_2['text'].apply(tokenize)"
   ]
  },
  {
   "cell_type": "code",
   "execution_count": 22,
   "id": "6ec4533d-bd11-4725-93be-a969e5ff91a2",
   "metadata": {},
   "outputs": [],
   "source": [
    "from sklearn.feature_extraction.text import TfidfVectorizer"
   ]
  },
  {
   "cell_type": "code",
   "execution_count": 23,
   "id": "ed88d302-4d72-4c12-92a3-3d44fbd68028",
   "metadata": {},
   "outputs": [],
   "source": [
    "tf_id=TfidfVectorizer(analyzer='word',stop_words='english')"
   ]
  },
  {
   "cell_type": "code",
   "execution_count": 24,
   "id": "488752d6-9ce5-4395-ab1a-26c06b190836",
   "metadata": {},
   "outputs": [],
   "source": [
    "transformer =tf_id.fit_transform(ds_2['text'])"
   ]
  },
  {
   "cell_type": "code",
   "execution_count": 25,
   "id": "927ec8d5-1998-4e42-a128-9f35817cedb3",
   "metadata": {},
   "outputs": [
    {
     "data": {
      "text/plain": [
       "<20000x34916 sparse matrix of type '<class 'numpy.float64'>'\n",
       "\twith 1101464 stored elements in Compressed Sparse Row format>"
      ]
     },
     "execution_count": 25,
     "metadata": {},
     "output_type": "execute_result"
    }
   ],
   "source": [
    "transformer"
   ]
  },
  {
   "cell_type": "code",
   "execution_count": 26,
   "id": "c1dec629-c817-4479-96b7-6499374cfa59",
   "metadata": {},
   "outputs": [],
   "source": [
    "from sklearn.metrics.pairwise import cosine_similarity"
   ]
  },
  {
   "cell_type": "code",
   "execution_count": 27,
   "id": "5e2076b9-ce27-4a25-81d8-71bc6c839cbd",
   "metadata": {},
   "outputs": [],
   "source": [
    "similarty = cosine_similarity(transformer)"
   ]
  },
  {
   "cell_type": "code",
   "execution_count": 28,
   "id": "8325a39a-6e85-4ec9-a4c6-b5116eeffa1a",
   "metadata": {},
   "outputs": [
    {
     "data": {
      "text/plain": [
       "array([[1.        , 0.01052689, 0.00552069, ..., 0.01859936, 0.01023498,\n",
       "        0.00860714],\n",
       "       [0.01052689, 1.        , 0.00429076, ..., 0.01938396, 0.04122788,\n",
       "        0.02120552],\n",
       "       [0.00552069, 0.00429076, 1.        , ..., 0.02434142, 0.0219603 ,\n",
       "        0.02233728],\n",
       "       ...,\n",
       "       [0.01859936, 0.01938396, 0.02434142, ..., 1.        , 0.10769113,\n",
       "        0.11117112],\n",
       "       [0.01023498, 0.04122788, 0.0219603 , ..., 0.10769113, 1.        ,\n",
       "        0.0908156 ],\n",
       "       [0.00860714, 0.02120552, 0.02233728, ..., 0.11117112, 0.0908156 ,\n",
       "        1.        ]])"
      ]
     },
     "execution_count": 28,
     "metadata": {},
     "output_type": "execute_result"
    }
   ],
   "source": [
    "similarty"
   ]
  },
  {
   "cell_type": "code",
   "execution_count": 29,
   "id": "64db251c-ee11-483e-9a82-add1f6713a0f",
   "metadata": {},
   "outputs": [],
   "source": [
    "def recommender(text):\n",
    "    \n",
    "    text_vector = tf_id.transform([text])\n",
    "    \n",
    "    cosine_similarities = cosine_similarity(text_vector, transformer).flatten()\n",
    "     \n",
    "    similar_indices = cosine_similarities.argsort()[-11:][::-1]  \n",
    "    \n",
    "    song_names = ds_2.iloc[similar_indices[1:]]['song'].tolist()  \n",
    "    return song_names"
   ]
  },
  {
   "cell_type": "code",
   "execution_count": 36,
   "id": "cea386d3-ee01-4f2d-88f7-96d71afc0052",
   "metadata": {},
   "outputs": [
    {
     "name": "stdin",
     "output_type": "stream",
     "text": [
      "Enter Some Text:  Boom\n"
     ]
    },
    {
     "name": "stdout",
     "output_type": "stream",
     "text": [
      "['A Place To Crash', 'Super Bass', 'Endless Love', 'Solsbury Hill', 'Boom Boom', 'Power', 'My Man', 'Hoedown Throwdown', 'Chick-A-Boom', 'Bee Song']\n"
     ]
    }
   ],
   "source": [
    "input_text = input(\"Enter Some Text: \")\n",
    "recommendations = recommender(input_text)\n",
    "print(recommendations)"
   ]
  },
  {
   "cell_type": "markdown",
   "id": "6e38122c-68b5-428e-9c2d-2b50d1a9b7ca",
   "metadata": {},
   "source": [
    "## Files"
   ]
  },
  {
   "cell_type": "code",
   "execution_count": 33,
   "id": "87792c45-e5ed-409c-bbf3-1ae44d4da354",
   "metadata": {},
   "outputs": [],
   "source": [
    "import pickle"
   ]
  },
  {
   "cell_type": "code",
   "execution_count": 34,
   "id": "d23c37e8-2ebf-429f-9d22-ab4cc5986801",
   "metadata": {},
   "outputs": [],
   "source": [
    "pickle.dump(similarty,open(\"similarty\",\"wb\"))"
   ]
  },
  {
   "cell_type": "code",
   "execution_count": 35,
   "id": "d8c898d4-6338-4890-b41d-62904e2a579e",
   "metadata": {},
   "outputs": [],
   "source": [
    "pickle.dump(ds_2,open(\"ds_2\",\"wb\"))"
   ]
  },
  {
   "cell_type": "code",
   "execution_count": null,
   "id": "f3ff870e-5a2a-406b-8fa5-f38add174b23",
   "metadata": {},
   "outputs": [],
   "source": []
  }
 ],
 "metadata": {
  "kernelspec": {
   "display_name": "Python 3 (ipykernel)",
   "language": "python",
   "name": "python3"
  },
  "language_info": {
   "codemirror_mode": {
    "name": "ipython",
    "version": 3
   },
   "file_extension": ".py",
   "mimetype": "text/x-python",
   "name": "python",
   "nbconvert_exporter": "python",
   "pygments_lexer": "ipython3",
   "version": "3.11.7"
  }
 },
 "nbformat": 4,
 "nbformat_minor": 5
}
